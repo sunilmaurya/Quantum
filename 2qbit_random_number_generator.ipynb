{
 "cells": [
  {
   "cell_type": "code",
   "execution_count": 1,
   "metadata": {},
   "outputs": [],
   "source": [
    "from qiskit import *\n",
    "%matplotlib inline"
   ]
  },
  {
   "cell_type": "code",
   "execution_count": 45,
   "metadata": {},
   "outputs": [
    {
     "name": "stdout",
     "output_type": "stream",
     "text": [
      "{'01': 248, '10': 250, '00': 265, '11': 261}\n",
      "0 0 1 1\n"
     ]
    }
   ],
   "source": [
    "randomNumber=list()\n",
    "qr = QuantumRegister(2)\n",
    "cr = ClassicalRegister(2)\n",
    "circuit = QuantumCircuit(qr, cr)\n",
    "circuit.h(qr[0])\n",
    "circuit.h(qr[1])\n",
    "circuit.measure(qr[0], cr[0])\n",
    "circuit.measure(qr[1], cr[1])\n",
    "circuit.draw(output='mpl')\n",
    "backend = Aer.get_backend('qasm_simulator')\n",
    "job = execute(circuit, backend)\n",
    "result = job.result()\n",
    "counts = result.get_counts(circuit)\n",
    "print (counts)\n",
    "i=0\n",
    "for v in counts.values():\n",
    "    if v > 1024/4 : \n",
    "        bits = 1\n",
    "    else:\n",
    "        bits = 0\n",
    "    #randomNumber[i]=bits\n",
    "    randomNumber.append(bits)\n",
    "    i=i+1\n",
    "print(*randomNumber)\n",
    " \n",
    "  \n",
    "  \n"
   ]
  },
  {
   "cell_type": "code",
   "execution_count": null,
   "metadata": {},
   "outputs": [],
   "source": []
  }
 ],
 "metadata": {
  "kernelspec": {
   "display_name": "Python 3",
   "language": "python",
   "name": "python3"
  },
  "language_info": {
   "codemirror_mode": {
    "name": "ipython",
    "version": 3
   },
   "file_extension": ".py",
   "mimetype": "text/x-python",
   "name": "python",
   "nbconvert_exporter": "python",
   "pygments_lexer": "ipython3",
   "version": "3.6.8"
  }
 },
 "nbformat": 4,
 "nbformat_minor": 2
}
